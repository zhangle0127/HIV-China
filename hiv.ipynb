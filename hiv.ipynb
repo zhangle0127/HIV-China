{
 "cells": [
  {
   "cell_type": "code",
   "execution_count": 18,
   "metadata": {
    "collapsed": true
   },
   "outputs": [],
   "source": [
    "import os\n",
    "import pandas as pd\n",
    "import numpy as np\n",
    "# chdir 改变当前工作目录到指定的路径\n",
    "os.chdir('/Users/zhangle/百度云同步盘/工作/HIV/HIV_year')\n",
    "files = os.listdir()"
   ]
  },
  {
   "cell_type": "code",
   "execution_count": 89,
   "metadata": {
    "collapsed": false
   },
   "outputs": [],
   "source": [
    "datasets = pd.DataFrame()\n",
    "for i in range(1,len(files)):\n",
    "    data = pd.read_excel(files[i],skiprows=1).iloc[0:,0:5]\n",
    "    data = data.rename(columns={'Unnamed: 0':'Area','发病数':'Incidence','死亡数':'Death','发病率':'Incidence_rate',\n",
    "                                '死亡率':'Death_rate'})\n",
    "    data['Year'] = files[i][0:4]\n",
    "    for j in np.arange(0,len(data)):\n",
    "        data.ix[j,'Area'] = data.ix[j,'Area'].replace(' ','')\n",
    "    datasets = pd.concat([datasets,data])"
   ]
  },
  {
   "cell_type": "code",
   "execution_count": 90,
   "metadata": {
    "collapsed": false,
    "scrolled": true
   },
   "outputs": [
    {
     "data": {
      "text/html": [
       "<div>\n",
       "<table border=\"1\" class=\"dataframe\">\n",
       "  <thead>\n",
       "    <tr style=\"text-align: right;\">\n",
       "      <th></th>\n",
       "      <th>Area</th>\n",
       "      <th>Incidence</th>\n",
       "      <th>Death</th>\n",
       "      <th>Incidence_rate</th>\n",
       "      <th>Death_rate</th>\n",
       "      <th>Year</th>\n",
       "    </tr>\n",
       "  </thead>\n",
       "  <tbody>\n",
       "    <tr>\n",
       "      <th>0</th>\n",
       "      <td>全国</td>\n",
       "      <td>5621</td>\n",
       "      <td>1316</td>\n",
       "      <td>0.432425</td>\n",
       "      <td>0.101240</td>\n",
       "      <td>2005</td>\n",
       "    </tr>\n",
       "    <tr>\n",
       "      <th>1</th>\n",
       "      <td>北京市</td>\n",
       "      <td>76</td>\n",
       "      <td>7</td>\n",
       "      <td>0.494681</td>\n",
       "      <td>0.045563</td>\n",
       "      <td>2005</td>\n",
       "    </tr>\n",
       "    <tr>\n",
       "      <th>2</th>\n",
       "      <td>天津市</td>\n",
       "      <td>14</td>\n",
       "      <td>3</td>\n",
       "      <td>0.134420</td>\n",
       "      <td>0.028804</td>\n",
       "      <td>2005</td>\n",
       "    </tr>\n",
       "    <tr>\n",
       "      <th>3</th>\n",
       "      <td>河北省</td>\n",
       "      <td>59</td>\n",
       "      <td>22</td>\n",
       "      <td>0.086643</td>\n",
       "      <td>0.032308</td>\n",
       "      <td>2005</td>\n",
       "    </tr>\n",
       "    <tr>\n",
       "      <th>4</th>\n",
       "      <td>山西省</td>\n",
       "      <td>116</td>\n",
       "      <td>38</td>\n",
       "      <td>0.347834</td>\n",
       "      <td>0.113946</td>\n",
       "      <td>2005</td>\n",
       "    </tr>\n",
       "  </tbody>\n",
       "</table>\n",
       "</div>"
      ],
      "text/plain": [
       "  Area  Incidence  Death  Incidence_rate  Death_rate  Year\n",
       "0   全国       5621   1316        0.432425    0.101240  2005\n",
       "1  北京市         76      7        0.494681    0.045563  2005\n",
       "2  天津市         14      3        0.134420    0.028804  2005\n",
       "3  河北省         59     22        0.086643    0.032308  2005\n",
       "4  山西省        116     38        0.347834    0.113946  2005"
      ]
     },
     "execution_count": 90,
     "metadata": {},
     "output_type": "execute_result"
    }
   ],
   "source": [
    "datasets.head()"
   ]
  },
  {
   "cell_type": "code",
   "execution_count": 88,
   "metadata": {
    "collapsed": false
   },
   "outputs": [
    {
     "data": {
      "text/plain": [
       "array(['全国', '北京市', '天津市', '河北省', '山西省', '内蒙古', '辽宁省', '吉林省', '黑龙江省',\n",
       "       '上海市', '江苏省', '浙江省', '安徽省', '福建省', '江西省', '山东省', '河南省', '湖北省',\n",
       "       '湖南省', '广东省', '广西', '海南省', '重庆市', '四川省', '贵州省', '云南省', '西藏', '陕西省',\n",
       "       '甘肃省', '青海省', '宁夏', '新疆', '建设兵团'], dtype=object)"
      ]
     },
     "execution_count": 88,
     "metadata": {},
     "output_type": "execute_result"
    }
   ],
   "source": [
    "datasets.Area.unique()"
   ]
  },
  {
   "cell_type": "code",
   "execution_count": 91,
   "metadata": {
    "collapsed": false
   },
   "outputs": [],
   "source": [
    "datasets.to_excel('hiv_nation.xlsx')"
   ]
  },
  {
   "cell_type": "code",
   "execution_count": 70,
   "metadata": {
    "collapsed": false,
    "scrolled": true
   },
   "outputs": [],
   "source": []
  },
  {
   "cell_type": "code",
   "execution_count": 80,
   "metadata": {
    "collapsed": true
   },
   "outputs": [],
   "source": []
  },
  {
   "cell_type": "code",
   "execution_count": null,
   "metadata": {
    "collapsed": true
   },
   "outputs": [],
   "source": []
  }
 ],
 "metadata": {
  "kernelspec": {
   "display_name": "Python 3",
   "language": "python",
   "name": "python3"
  },
  "language_info": {
   "codemirror_mode": {
    "name": "ipython",
    "version": 3
   },
   "file_extension": ".py",
   "mimetype": "text/x-python",
   "name": "python",
   "nbconvert_exporter": "python",
   "pygments_lexer": "ipython3",
   "version": "3.6.0"
  }
 },
 "nbformat": 4,
 "nbformat_minor": 2
}
